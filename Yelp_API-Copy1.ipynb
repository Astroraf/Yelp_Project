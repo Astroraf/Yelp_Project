{
 "cells": [
  {
   "cell_type": "markdown",
   "metadata": {},
   "source": [
    "# Import all packages\n",
    "Import all your packages to succesfully us python, json files, sql data tables and creation of visualizations\n"
   ]
  },
  {
   "cell_type": "code",
   "execution_count": 1,
   "metadata": {},
   "outputs": [],
   "source": [
    "#Import all packages for the Yelp Project\n",
    "#Create connection to connection to created database\n",
    "\n",
    "import json\n",
    "import requests\n",
    "import numpy as np\n",
    "import pandas as pd\n",
    "import matplotlib.pyplot as plt\n",
    "import sqlite3\n",
    "conn = sqlite3.connect('yelp.db')\n",
    "\n",
    "import keys \n",
    "import functions \n",
    "\n",
    "#:memory:\n",
    "cur = conn.cursor()"
   ]
  },
  {
   "cell_type": "markdown",
   "metadata": {},
   "source": [
    " # Create two variables for the business and review databases from yelp\n",
    " \n",
    " We need to two variables called url and url1 to requesto the API for businesses and their reviews. Once you\n",
    " have your connections to the API's, a key is needed to be created in order to access the Yelp API data."
   ]
  },
  {
   "cell_type": "code",
   "execution_count": 7,
   "metadata": {},
   "outputs": [],
   "source": [
    "url = 'https://api.yelp.com/v3/businesses/search'\n",
    "url2 = 'https://api.yelp.com/v3/businesses/{id}/reviews'"
   ]
  },
  {
   "cell_type": "code",
   "execution_count": 8,
   "metadata": {},
   "outputs": [],
   "source": [
    "client_id = \"WdeBQ0QfW7ctlNNGDyNEwA\"\n",
    "api_key = \"qOP1w_dBiefuyHCkz5gzIlhtKzNxBNMi3uCVJib_Kzs_y0EKqn1pKpRlpGvAPmB2fZ_eVWv65j_o5rmiT9HNK10tH5rosM3GfauVdQU0TvfOtdqn4L3zzLC2g1P3X3Yx\""
   ]
  },
  {
   "cell_type": "markdown",
   "metadata": {},
   "source": [
    "# Creates a header with the attached API key from the Yelp API"
   ]
  },
  {
   "cell_type": "code",
   "execution_count": 50,
   "metadata": {},
   "outputs": [],
   "source": [
    "functions.headers;"
   ]
  },
  {
   "cell_type": "markdown",
   "metadata": {},
   "source": [
    "Creates the conditiions for which we want to search for for a specific business.\n",
    "Our conditons for this client is business by Yoga business within Manahttan for a 10,000 meter radius or 6.4 miles. Then import all the condtions into the the url paramters."
   ]
  },
  {
   "cell_type": "code",
   "execution_count": 49,
   "metadata": {},
   "outputs": [],
   "source": [
    "term = 'yoga'\n",
    "location = 'Manhattan'\n",
    "radius = 10000\n",
    "\n",
    "url_params = {\n",
    "                \"term\": term.replace(' ', '+'),\n",
    "                \"location\": location.replace(' ', '+'),\n",
    "                \"radius\" : radius,\n",
    "                \"limit\": 50\n",
    "            }"
   ]
  },
  {
   "cell_type": "markdown",
   "metadata": {},
   "source": [
    "# Creating SQL Tables\n",
    "\n",
    "Create a SQL datatable were we will insert the information from the businesses returned from the API. We also need to create a table for three reviews given to each business returned from the API."
   ]
  },
  {
   "cell_type": "code",
   "execution_count": 22,
   "metadata": {
    "collapsed": true,
    "jupyter": {
     "outputs_hidden": true
    }
   },
   "outputs": [
    {
     "ename": "OperationalError",
     "evalue": "table businesses already exists",
     "output_type": "error",
     "traceback": [
      "\u001b[0;31m---------------------------------------------------------------------------\u001b[0m",
      "\u001b[0;31mOperationalError\u001b[0m                          Traceback (most recent call last)",
      "\u001b[0;32m<ipython-input-22-8660dfb26e8f>\u001b[0m in \u001b[0;36m<module>\u001b[0;34m\u001b[0m\n\u001b[1;32m      3\u001b[0m \u001b[0;34m\u001b[0m\u001b[0m\n\u001b[1;32m      4\u001b[0m \u001b[0;34m\u001b[0m\u001b[0m\n\u001b[0;32m----> 5\u001b[0;31m cur.execute(\"\"\"CREATE TABLE businesses (\n\u001b[0m\u001b[1;32m      6\u001b[0m                                 \u001b[0mid\u001b[0m \u001b[0mINTEGER\u001b[0m \u001b[0mPRIMARY\u001b[0m \u001b[0mKEY\u001b[0m\u001b[0;34m,\u001b[0m\u001b[0;34m\u001b[0m\u001b[0;34m\u001b[0m\u001b[0m\n\u001b[1;32m      7\u001b[0m                                 \u001b[0mbusinessID\u001b[0m \u001b[0mTEXT\u001b[0m\u001b[0;34m,\u001b[0m\u001b[0;34m\u001b[0m\u001b[0;34m\u001b[0m\u001b[0m\n",
      "\u001b[0;31mOperationalError\u001b[0m: table businesses already exists"
     ]
    }
   ],
   "source": [
    "\n",
    "cur.execute(\"\"\"CREATE TABLE businesses (\n",
    "                                id INTEGER PRIMARY KEY, \n",
    "                                businessID TEXT,\n",
    "                                rating INTEGER,\n",
    "                                price TEXT,\n",
    "                                name TEXT,\n",
    "                                review_count TEXT,\n",
    "                                city TEXT,\n",
    "                                country TEXT,\n",
    "                                zip_code TEXT\n",
    "                                )          \n",
    "            \"\"\")\n",
    "conn.commit()"
   ]
  },
  {
   "cell_type": "code",
   "execution_count": 23,
   "metadata": {
    "collapsed": true,
    "jupyter": {
     "outputs_hidden": true
    }
   },
   "outputs": [
    {
     "ename": "OperationalError",
     "evalue": "table reviews already exists",
     "output_type": "error",
     "traceback": [
      "\u001b[0;31m---------------------------------------------------------------------------\u001b[0m",
      "\u001b[0;31mOperationalError\u001b[0m                          Traceback (most recent call last)",
      "\u001b[0;32m<ipython-input-23-c87e2a498610>\u001b[0m in \u001b[0;36m<module>\u001b[0;34m\u001b[0m\n\u001b[1;32m      3\u001b[0m \u001b[0;31m#from the API.\u001b[0m\u001b[0;34m\u001b[0m\u001b[0;34m\u001b[0m\u001b[0;34m\u001b[0m\u001b[0m\n\u001b[1;32m      4\u001b[0m \u001b[0;34m\u001b[0m\u001b[0m\n\u001b[0;32m----> 5\u001b[0;31m cur.execute(\"\"\"CREATE TABLE reviews (\n\u001b[0m\u001b[1;32m      6\u001b[0m                                 \u001b[0mbusinessID\u001b[0m \u001b[0mTEXT\u001b[0m\u001b[0;34m,\u001b[0m\u001b[0;34m\u001b[0m\u001b[0;34m\u001b[0m\u001b[0m\n\u001b[1;32m      7\u001b[0m                                 \u001b[0mtext\u001b[0m \u001b[0mTEXT\u001b[0m\u001b[0;34m,\u001b[0m\u001b[0;34m\u001b[0m\u001b[0;34m\u001b[0m\u001b[0m\n",
      "\u001b[0;31mOperationalError\u001b[0m: table reviews already exists"
     ]
    }
   ],
   "source": [
    "cur.execute(\"\"\"CREATE TABLE reviews (\n",
    "                                businessID TEXT,\n",
    "                                text TEXT,\n",
    "                                rating INTEGER,\n",
    "                                time_created TEXT,\n",
    "                                reviewID TEXT\n",
    "                                )          \n",
    "            \"\"\")\n",
    "conn.commit()"
   ]
  },
  {
   "cell_type": "markdown",
   "metadata": {},
   "source": [
    "# Creating functions and calling functions\n",
    "\n",
    "1. Creates a yelp call function that takes into three different paramters:\n",
    "2. Creating a function that parses that data then returns the information as a tuple.\n",
    "3. Takes the values from the parsed results and inputs them into the business table"
   ]
  },
  {
   "cell_type": "code",
   "execution_count": 53,
   "metadata": {},
   "outputs": [],
   "source": [
    "functions.yelp_call;\n",
    "functions.parse_results;\n",
    "functions.insert_values;"
   ]
  },
  {
   "cell_type": "markdown",
   "metadata": {},
   "source": [
    "Using the three distinct functions we created to grab our data, we now grab 50 businesses at a time and at them to our dataframe and tables for our businesses database"
   ]
  },
  {
   "cell_type": "code",
   "execution_count": 26,
   "metadata": {
    "scrolled": true
   },
   "outputs": [
    {
     "name": "stdout",
     "output_type": "stream",
     "text": [
      "50\n",
      "100\n",
      "150\n",
      "200\n",
      "250\n",
      "300\n",
      "350\n",
      "400\n",
      "450\n",
      "500\n",
      "550\n",
      "600\n",
      "650\n",
      "700\n",
      "750\n",
      "800\n",
      "850\n",
      "900\n",
      "950\n",
      "1000\n"
     ]
    }
   ],
   "source": [
    "# create a variable  to keep track of which result you are in. \n",
    "current_offset = 0\n",
    "#set up a while loop to go through and grab the result \n",
    "while current_offset < 1000:\n",
    "    #set the offset parameter to be where you currently are in the results \n",
    "    url_params['offset'] = current_offset\n",
    "    #make your API call with the new offset number\n",
    "    results = functions.yelp_call(url, url_params, api_key)\n",
    "    #after you get your results you can now use your function to parse those results\n",
    "    parsed_results = functions.parse_results(results)\n",
    "    # use your function to insert your parsed results into the db\n",
    "    functions.insert_values(conn, cur, parsed_results)\n",
    "    #increment the counter by 50 to move on to the next results\n",
    "    current_offset += 50\n",
    "    print(current_offset)"
   ]
  },
  {
   "cell_type": "markdown",
   "metadata": {},
   "source": [
    "# London location:\n",
    "\n",
    "We have considered NYC as option but we now want compare the results from London in terms of the yoga studios present there. Adding this a new condtion we set our new paramters for the different location, then pass it through our define functions to grab all the businesses related yoga in London. "
   ]
  },
  {
   "cell_type": "code",
   "execution_count": 27,
   "metadata": {},
   "outputs": [],
   "source": [
    "location = 'London'\n",
    "\n",
    "url_params = {\n",
    "                \"term\": term.replace(' ', '+'),\n",
    "                \"location\": location.replace(' ', '+'),\n",
    "                \"radius\" : radius,\n",
    "                \"limit\": 50\n",
    "            }"
   ]
  },
  {
   "cell_type": "code",
   "execution_count": 29,
   "metadata": {
    "scrolled": true
   },
   "outputs": [
    {
     "name": "stdout",
     "output_type": "stream",
     "text": [
      "0\n",
      "50\n",
      "100\n",
      "150\n",
      "200\n",
      "250\n",
      "300\n",
      "350\n",
      "400\n",
      "450\n",
      "500\n",
      "550\n",
      "600\n",
      "650\n",
      "700\n",
      "750\n",
      "800\n",
      "850\n",
      "900\n",
      "950\n"
     ]
    }
   ],
   "source": [
    "# create a variable  to keep track of which result you are in. \n",
    "current_offset = 0\n",
    "#num = NYCdata['total']\n",
    "#set up a while loop to go through and grab the result \n",
    "while current_offset < 1000:\n",
    "    #set the offset parameter to be where you currently are in the results \n",
    "    url_params['offset'] = current_offset\n",
    "    #make your API call with the new offset number\n",
    "    results = functions.yelp_call(url, url_params, api_key)\n",
    "    \n",
    "    #after you get your results you can now use your function to parse those results\n",
    "    parsed_results = functions.parse_results(results)\n",
    "    \n",
    "    # use your function to insert your parsed results into the db\n",
    "    functions.insert_values(conn, cur, parsed_results)\n",
    "    #increment the counter by 50 businesses at a time to move on to the next results\n",
    "    print(current_offset)\n",
    "    current_offset += 50"
   ]
  },
  {
   "cell_type": "markdown",
   "metadata": {},
   "source": [
    "# Grab all our businesses IDs\n",
    "\n",
    "- We first need grab all the businesses ID's that are unique to each business that is saved as a tuple.\n",
    "- Then we need put all our business ID's in a list so then we can grab just one ID later one. \n"
   ]
  },
  {
   "cell_type": "code",
   "execution_count": 30,
   "metadata": {},
   "outputs": [],
   "source": [
    "biz_list = cur.execute(\"\"\"\n",
    "SELECT businessID\n",
    "FROM businesses;\n",
    "\"\"\").fetchall()\n",
    "\n",
    "biz_list;\n",
    "\n",
    "biz_ID_list = []\n",
    "for biz in biz_list:\n",
    "    biz_ID = biz[0]\n",
    "    biz_ID_list.append(biz_ID)\n",
    "biz_ID_list"
   ]
  },
  {
   "cell_type": "markdown",
   "metadata": {},
   "source": [
    "# Create our reviews functions\n",
    "\n",
    "Just like for our businesses and the crucial information that leads to our analysis, we want to take the reviews for each business for later use of analysis.\n",
    "\n",
    "1. Creata function that takes each unique businesses ID and grabs just the reviews to then put into a dataframe.\n",
    "2. Then we need to parse the information that is given from our reviews dataframe.\n",
    "3. With the data know organized and pull, we then insert into our SQL Table to run our queries."
   ]
  },
  {
   "cell_type": "code",
   "execution_count": 55,
   "metadata": {},
   "outputs": [],
   "source": [
    "functions.yelp_call_reviews;\n",
    "functions.parse_reviews;\n",
    "functions.insert_reviews;"
   ]
  },
  {
   "cell_type": "markdown",
   "metadata": {},
   "source": [
    "# Grabbing all the reviews\n",
    "\n",
    "For each unqiue business ID we input this into the Yelp API reviews search, if we have no reviews for that business then we pass for the business. We grab the specific information that we need from the reviews database to then insert into our SQL table for each business."
   ]
  },
  {
   "cell_type": "code",
   "execution_count": 56,
   "metadata": {
    "collapsed": true,
    "jupyter": {
     "outputs_hidden": true
    },
    "scrolled": true
   },
   "outputs": [
    {
     "ename": "TypeError",
     "evalue": "argument of type 'NoneType' is not iterable",
     "output_type": "error",
     "traceback": [
      "\u001b[0;31m---------------------------------------------------------------------------\u001b[0m",
      "\u001b[0;31mTypeError\u001b[0m                                 Traceback (most recent call last)",
      "\u001b[0;32m<ipython-input-56-4641e327ec05>\u001b[0m in \u001b[0;36m<module>\u001b[0;34m\u001b[0m\n\u001b[1;32m      7\u001b[0m         \u001b[0;32mpass\u001b[0m\u001b[0;34m\u001b[0m\u001b[0;34m\u001b[0m\u001b[0m\n\u001b[1;32m      8\u001b[0m     \u001b[0;31m#Takes all the results we got from reviews and then parses them into the tuple\u001b[0m\u001b[0;34m\u001b[0m\u001b[0;34m\u001b[0m\u001b[0;34m\u001b[0m\u001b[0m\n\u001b[0;32m----> 9\u001b[0;31m     \u001b[0mparsed_reviews\u001b[0m \u001b[0;34m=\u001b[0m \u001b[0mfunctions\u001b[0m\u001b[0;34m.\u001b[0m\u001b[0mparse_reviews\u001b[0m\u001b[0;34m(\u001b[0m\u001b[0mbiz\u001b[0m\u001b[0;34m,\u001b[0m \u001b[0mreview_results\u001b[0m\u001b[0;34m)\u001b[0m\u001b[0;34m\u001b[0m\u001b[0;34m\u001b[0m\u001b[0m\n\u001b[0m\u001b[1;32m     10\u001b[0m     \u001b[0;31m#takes the tuple and inserts the information into the table called reviews\u001b[0m\u001b[0;34m\u001b[0m\u001b[0;34m\u001b[0m\u001b[0;34m\u001b[0m\u001b[0m\n\u001b[1;32m     11\u001b[0m     \u001b[0mfunctions\u001b[0m\u001b[0;34m.\u001b[0m\u001b[0minsert_reviews\u001b[0m\u001b[0;34m(\u001b[0m\u001b[0mconn\u001b[0m\u001b[0;34m,\u001b[0m \u001b[0mcur\u001b[0m\u001b[0;34m,\u001b[0m \u001b[0mparsed_reviews\u001b[0m\u001b[0;34m)\u001b[0m\u001b[0;34m\u001b[0m\u001b[0;34m\u001b[0m\u001b[0m\n",
      "\u001b[0;32m~/Documents/data_science1/yelp_project/Yelp-Project/Yelp_Project/functions.py\u001b[0m in \u001b[0;36mparse_reviews\u001b[0;34m(businessID, review_results)\u001b[0m\n\u001b[1;32m     73\u001b[0m \u001b[0;34m\u001b[0m\u001b[0m\n\u001b[1;32m     74\u001b[0m     \u001b[0;31m#Checks if there is a missing reveiw and returns None if there is a missing review\u001b[0m\u001b[0;34m\u001b[0m\u001b[0;34m\u001b[0m\u001b[0;34m\u001b[0m\u001b[0m\n\u001b[0;32m---> 75\u001b[0;31m     \u001b[0;32mif\u001b[0m \u001b[0;34m'error'\u001b[0m \u001b[0;32min\u001b[0m \u001b[0mreview_results\u001b[0m\u001b[0;34m:\u001b[0m\u001b[0;34m\u001b[0m\u001b[0;34m\u001b[0m\u001b[0m\n\u001b[0m\u001b[1;32m     76\u001b[0m         \u001b[0;32mif\u001b[0m \u001b[0mreview_results\u001b[0m\u001b[0;34m[\u001b[0m\u001b[0;34m'error'\u001b[0m\u001b[0;34m]\u001b[0m\u001b[0;34m[\u001b[0m\u001b[0;34m'code'\u001b[0m\u001b[0;34m]\u001b[0m \u001b[0;34m==\u001b[0m \u001b[0;34m'BUSINESS_UNAVAILABLE'\u001b[0m\u001b[0;34m:\u001b[0m\u001b[0;34m\u001b[0m\u001b[0;34m\u001b[0m\u001b[0m\n\u001b[1;32m     77\u001b[0m             \u001b[0;32mreturn\u001b[0m \u001b[0;32mNone\u001b[0m\u001b[0;34m\u001b[0m\u001b[0;34m\u001b[0m\u001b[0m\n",
      "\u001b[0;31mTypeError\u001b[0m: argument of type 'NoneType' is not iterable"
     ]
    }
   ],
   "source": [
    "#Goes into each business ID and puts into the yelp_call to grab reviews assocated with one \n",
    "#specific business\n",
    "for biz in biz_ID_list:\n",
    "    review_results = functions.yelp_call_reviews(biz)\n",
    "    #If we get a Nan or None value we then move onto the next one \n",
    "    if review_results == None:\n",
    "        pass\n",
    "    #Takes all the results we got from reviews and then parses them into the tuple\n",
    "    parsed_reviews = functions.parse_reviews(biz, review_results)\n",
    "    #takes the tuple and inserts the information into the table called reviews \n",
    "    functions.insert_reviews(conn, cur, parsed_reviews)"
   ]
  },
  {
   "cell_type": "markdown",
   "metadata": {},
   "source": [
    "# Import both databases in dataframes to then create visualizations for later use"
   ]
  },
  {
   "cell_type": "code",
   "execution_count": 41,
   "metadata": {},
   "outputs": [
    {
     "data": {
      "text/html": [
       "<div>\n",
       "<style scoped>\n",
       "    .dataframe tbody tr th:only-of-type {\n",
       "        vertical-align: middle;\n",
       "    }\n",
       "\n",
       "    .dataframe tbody tr th {\n",
       "        vertical-align: top;\n",
       "    }\n",
       "\n",
       "    .dataframe thead th {\n",
       "        text-align: right;\n",
       "    }\n",
       "</style>\n",
       "<table border=\"1\" class=\"dataframe\">\n",
       "  <thead>\n",
       "    <tr style=\"text-align: right;\">\n",
       "      <th></th>\n",
       "      <th>id</th>\n",
       "      <th>businessID</th>\n",
       "      <th>rating</th>\n",
       "      <th>price</th>\n",
       "      <th>name</th>\n",
       "      <th>review_count</th>\n",
       "      <th>city</th>\n",
       "      <th>country</th>\n",
       "      <th>zip_code</th>\n",
       "    </tr>\n",
       "  </thead>\n",
       "  <tbody>\n",
       "    <tr>\n",
       "      <th>0</th>\n",
       "      <td>1</td>\n",
       "      <td>kmj7FnZsKPPH3psbR9tX7Q</td>\n",
       "      <td>4.5</td>\n",
       "      <td>None</td>\n",
       "      <td>Sonic Yoga</td>\n",
       "      <td>146</td>\n",
       "      <td>New York</td>\n",
       "      <td>US</td>\n",
       "      <td>10019</td>\n",
       "    </tr>\n",
       "    <tr>\n",
       "      <th>1</th>\n",
       "      <td>2</td>\n",
       "      <td>GgvXfu8U80tcrxythjpB4w</td>\n",
       "      <td>5.0</td>\n",
       "      <td>None</td>\n",
       "      <td>AtthenaYoga</td>\n",
       "      <td>42</td>\n",
       "      <td>New York</td>\n",
       "      <td>US</td>\n",
       "      <td>10036</td>\n",
       "    </tr>\n",
       "    <tr>\n",
       "      <th>2</th>\n",
       "      <td>3</td>\n",
       "      <td>TlDcvf1cEK2im6e4AFYe3A</td>\n",
       "      <td>4.5</td>\n",
       "      <td>None</td>\n",
       "      <td>Humming Puppy</td>\n",
       "      <td>90</td>\n",
       "      <td>New York</td>\n",
       "      <td>US</td>\n",
       "      <td>10011</td>\n",
       "    </tr>\n",
       "    <tr>\n",
       "      <th>3</th>\n",
       "      <td>4</td>\n",
       "      <td>npgq_up0_puDV5jieUza-A</td>\n",
       "      <td>4.5</td>\n",
       "      <td>None</td>\n",
       "      <td>Yo Yoga!</td>\n",
       "      <td>55</td>\n",
       "      <td>New York</td>\n",
       "      <td>US</td>\n",
       "      <td>10022</td>\n",
       "    </tr>\n",
       "    <tr>\n",
       "      <th>4</th>\n",
       "      <td>5</td>\n",
       "      <td>Oi85AYz9-Bx-9SBjNf__vg</td>\n",
       "      <td>4.5</td>\n",
       "      <td>None</td>\n",
       "      <td>Yoga Spa Lounge 1881</td>\n",
       "      <td>92</td>\n",
       "      <td>New York</td>\n",
       "      <td>US</td>\n",
       "      <td>10022</td>\n",
       "    </tr>\n",
       "    <tr>\n",
       "      <th>...</th>\n",
       "      <td>...</td>\n",
       "      <td>...</td>\n",
       "      <td>...</td>\n",
       "      <td>...</td>\n",
       "      <td>...</td>\n",
       "      <td>...</td>\n",
       "      <td>...</td>\n",
       "      <td>...</td>\n",
       "      <td>...</td>\n",
       "    </tr>\n",
       "    <tr>\n",
       "      <th>3353</th>\n",
       "      <td>3354</td>\n",
       "      <td>XCOdN4pGetfR8Ema258z3w</td>\n",
       "      <td>2.5</td>\n",
       "      <td>None</td>\n",
       "      <td>DW FITNESS</td>\n",
       "      <td>7</td>\n",
       "      <td>London</td>\n",
       "      <td>GB</td>\n",
       "      <td>WC2B 4DD</td>\n",
       "    </tr>\n",
       "    <tr>\n",
       "      <th>3354</th>\n",
       "      <td>3355</td>\n",
       "      <td>Q-nSJQDBRyn9Ahqc4oRlRg</td>\n",
       "      <td>3.5</td>\n",
       "      <td>None</td>\n",
       "      <td>Fitness First Broadgate</td>\n",
       "      <td>3</td>\n",
       "      <td>London</td>\n",
       "      <td>GB</td>\n",
       "      <td>EC2M 7PY</td>\n",
       "    </tr>\n",
       "    <tr>\n",
       "      <th>3355</th>\n",
       "      <td>3356</td>\n",
       "      <td>MEUESxTbldQnKrU7_9g4Yw</td>\n",
       "      <td>4.0</td>\n",
       "      <td>None</td>\n",
       "      <td>Mettá</td>\n",
       "      <td>1</td>\n",
       "      <td>London</td>\n",
       "      <td>GB</td>\n",
       "      <td>NW5 1NA</td>\n",
       "    </tr>\n",
       "    <tr>\n",
       "      <th>3356</th>\n",
       "      <td>3357</td>\n",
       "      <td>zI399ArMHUW9uDNkTciDPA</td>\n",
       "      <td>3.5</td>\n",
       "      <td>None</td>\n",
       "      <td>Virgin Active</td>\n",
       "      <td>9</td>\n",
       "      <td>London</td>\n",
       "      <td>GB</td>\n",
       "      <td>SW4 0HG</td>\n",
       "    </tr>\n",
       "    <tr>\n",
       "      <th>3357</th>\n",
       "      <td>3358</td>\n",
       "      <td>s0W-AbYi0mGw6egZ2rk_Ow</td>\n",
       "      <td>3.0</td>\n",
       "      <td>£££</td>\n",
       "      <td>Equinox Kensington</td>\n",
       "      <td>27</td>\n",
       "      <td>Kensington</td>\n",
       "      <td>GB</td>\n",
       "      <td>W8</td>\n",
       "    </tr>\n",
       "  </tbody>\n",
       "</table>\n",
       "<p>3358 rows × 9 columns</p>\n",
       "</div>"
      ],
      "text/plain": [
       "        id              businessID  rating price                     name  \\\n",
       "0        1  kmj7FnZsKPPH3psbR9tX7Q     4.5  None               Sonic Yoga   \n",
       "1        2  GgvXfu8U80tcrxythjpB4w     5.0  None              AtthenaYoga   \n",
       "2        3  TlDcvf1cEK2im6e4AFYe3A     4.5  None            Humming Puppy   \n",
       "3        4  npgq_up0_puDV5jieUza-A     4.5  None                 Yo Yoga!   \n",
       "4        5  Oi85AYz9-Bx-9SBjNf__vg     4.5  None     Yoga Spa Lounge 1881   \n",
       "...    ...                     ...     ...   ...                      ...   \n",
       "3353  3354  XCOdN4pGetfR8Ema258z3w     2.5  None               DW FITNESS   \n",
       "3354  3355  Q-nSJQDBRyn9Ahqc4oRlRg     3.5  None  Fitness First Broadgate   \n",
       "3355  3356  MEUESxTbldQnKrU7_9g4Yw     4.0  None                    Mettá   \n",
       "3356  3357  zI399ArMHUW9uDNkTciDPA     3.5  None            Virgin Active   \n",
       "3357  3358  s0W-AbYi0mGw6egZ2rk_Ow     3.0   £££       Equinox Kensington   \n",
       "\n",
       "     review_count        city country  zip_code  \n",
       "0             146    New York      US     10019  \n",
       "1              42    New York      US     10036  \n",
       "2              90    New York      US     10011  \n",
       "3              55    New York      US     10022  \n",
       "4              92    New York      US     10022  \n",
       "...           ...         ...     ...       ...  \n",
       "3353            7      London      GB  WC2B 4DD  \n",
       "3354            3      London      GB  EC2M 7PY  \n",
       "3355            1      London      GB   NW5 1NA  \n",
       "3356            9      London      GB   SW4 0HG  \n",
       "3357           27  Kensington      GB        W8  \n",
       "\n",
       "[3358 rows x 9 columns]"
      ]
     },
     "execution_count": 41,
     "metadata": {},
     "output_type": "execute_result"
    }
   ],
   "source": [
    "#Checking that we have a SQL database for all the businesses in NYC and London\n",
    "cur.execute(\"\"\"\n",
    "SELECT * FROM businesses\n",
    "\"\"\")\n",
    "business = pd.DataFrame(cur.fetchall())\n",
    "business.columns = [x[0] for x in cur.description]\n",
    "business"
   ]
  },
  {
   "cell_type": "code",
   "execution_count": 37,
   "metadata": {},
   "outputs": [
    {
     "data": {
      "text/html": [
       "<div>\n",
       "<style scoped>\n",
       "    .dataframe tbody tr th:only-of-type {\n",
       "        vertical-align: middle;\n",
       "    }\n",
       "\n",
       "    .dataframe tbody tr th {\n",
       "        vertical-align: top;\n",
       "    }\n",
       "\n",
       "    .dataframe thead th {\n",
       "        text-align: right;\n",
       "    }\n",
       "</style>\n",
       "<table border=\"1\" class=\"dataframe\">\n",
       "  <thead>\n",
       "    <tr style=\"text-align: right;\">\n",
       "      <th></th>\n",
       "      <th>businessID</th>\n",
       "      <th>text</th>\n",
       "      <th>rating</th>\n",
       "      <th>time_created</th>\n",
       "      <th>reviewID</th>\n",
       "    </tr>\n",
       "  </thead>\n",
       "  <tbody>\n",
       "    <tr>\n",
       "      <th>0</th>\n",
       "      <td>kmj7FnZsKPPH3psbR9tX7Q</td>\n",
       "      <td>Beginner Flow with Taquice, Sunday afternoon -...</td>\n",
       "      <td>5</td>\n",
       "      <td>2019-12-29 14:26:23</td>\n",
       "      <td>QJS08cT1I7c0Ev9u6femLw</td>\n",
       "    </tr>\n",
       "    <tr>\n",
       "      <th>1</th>\n",
       "      <td>kmj7FnZsKPPH3psbR9tX7Q</td>\n",
       "      <td>Beginner Flow with Taquice, Sunday afternoon -...</td>\n",
       "      <td>5</td>\n",
       "      <td>2019-12-29 14:26:23</td>\n",
       "      <td>QJS08cT1I7c0Ev9u6femLw</td>\n",
       "    </tr>\n",
       "    <tr>\n",
       "      <th>2</th>\n",
       "      <td>kmj7FnZsKPPH3psbR9tX7Q</td>\n",
       "      <td>Beginner Flow with Taquice, Sunday afternoon -...</td>\n",
       "      <td>5</td>\n",
       "      <td>2019-12-29 14:26:23</td>\n",
       "      <td>QJS08cT1I7c0Ev9u6femLw</td>\n",
       "    </tr>\n",
       "    <tr>\n",
       "      <th>3</th>\n",
       "      <td>kmj7FnZsKPPH3psbR9tX7Q</td>\n",
       "      <td>I came across Sonic Yoga on ClassPass.  I have...</td>\n",
       "      <td>4</td>\n",
       "      <td>2020-02-28 06:21:41</td>\n",
       "      <td>1lBvdI7kfUrWN59njKQsZw</td>\n",
       "    </tr>\n",
       "    <tr>\n",
       "      <th>4</th>\n",
       "      <td>kmj7FnZsKPPH3psbR9tX7Q</td>\n",
       "      <td>I came across Sonic Yoga on ClassPass.  I have...</td>\n",
       "      <td>4</td>\n",
       "      <td>2020-02-28 06:21:41</td>\n",
       "      <td>1lBvdI7kfUrWN59njKQsZw</td>\n",
       "    </tr>\n",
       "    <tr>\n",
       "      <th>...</th>\n",
       "      <td>...</td>\n",
       "      <td>...</td>\n",
       "      <td>...</td>\n",
       "      <td>...</td>\n",
       "      <td>...</td>\n",
       "    </tr>\n",
       "    <tr>\n",
       "      <th>9322</th>\n",
       "      <td>s0W-AbYi0mGw6egZ2rk_Ow</td>\n",
       "      <td>This location puts San Francisco Equinox Sport...</td>\n",
       "      <td>4</td>\n",
       "      <td>2016-08-01 12:34:31</td>\n",
       "      <td>1s1M_DJNdqHvEg2xLHChYQ</td>\n",
       "    </tr>\n",
       "    <tr>\n",
       "      <th>9323</th>\n",
       "      <td>s0W-AbYi0mGw6egZ2rk_Ow</td>\n",
       "      <td>This location puts San Francisco Equinox Sport...</td>\n",
       "      <td>4</td>\n",
       "      <td>2016-08-01 12:34:31</td>\n",
       "      <td>1s1M_DJNdqHvEg2xLHChYQ</td>\n",
       "    </tr>\n",
       "    <tr>\n",
       "      <th>9324</th>\n",
       "      <td>s0W-AbYi0mGw6egZ2rk_Ow</td>\n",
       "      <td>My father's old business partner's daughter in...</td>\n",
       "      <td>3</td>\n",
       "      <td>2018-08-08 08:30:27</td>\n",
       "      <td>sJdmd9ZYZf-BJ4SNKI-iVw</td>\n",
       "    </tr>\n",
       "    <tr>\n",
       "      <th>9325</th>\n",
       "      <td>s0W-AbYi0mGw6egZ2rk_Ow</td>\n",
       "      <td>My father's old business partner's daughter in...</td>\n",
       "      <td>3</td>\n",
       "      <td>2018-08-08 08:30:27</td>\n",
       "      <td>sJdmd9ZYZf-BJ4SNKI-iVw</td>\n",
       "    </tr>\n",
       "    <tr>\n",
       "      <th>9326</th>\n",
       "      <td>s0W-AbYi0mGw6egZ2rk_Ow</td>\n",
       "      <td>My father's old business partner's daughter in...</td>\n",
       "      <td>3</td>\n",
       "      <td>2018-08-08 08:30:27</td>\n",
       "      <td>sJdmd9ZYZf-BJ4SNKI-iVw</td>\n",
       "    </tr>\n",
       "  </tbody>\n",
       "</table>\n",
       "<p>9327 rows × 5 columns</p>\n",
       "</div>"
      ],
      "text/plain": [
       "                  businessID  \\\n",
       "0     kmj7FnZsKPPH3psbR9tX7Q   \n",
       "1     kmj7FnZsKPPH3psbR9tX7Q   \n",
       "2     kmj7FnZsKPPH3psbR9tX7Q   \n",
       "3     kmj7FnZsKPPH3psbR9tX7Q   \n",
       "4     kmj7FnZsKPPH3psbR9tX7Q   \n",
       "...                      ...   \n",
       "9322  s0W-AbYi0mGw6egZ2rk_Ow   \n",
       "9323  s0W-AbYi0mGw6egZ2rk_Ow   \n",
       "9324  s0W-AbYi0mGw6egZ2rk_Ow   \n",
       "9325  s0W-AbYi0mGw6egZ2rk_Ow   \n",
       "9326  s0W-AbYi0mGw6egZ2rk_Ow   \n",
       "\n",
       "                                                   text  rating  \\\n",
       "0     Beginner Flow with Taquice, Sunday afternoon -...       5   \n",
       "1     Beginner Flow with Taquice, Sunday afternoon -...       5   \n",
       "2     Beginner Flow with Taquice, Sunday afternoon -...       5   \n",
       "3     I came across Sonic Yoga on ClassPass.  I have...       4   \n",
       "4     I came across Sonic Yoga on ClassPass.  I have...       4   \n",
       "...                                                 ...     ...   \n",
       "9322  This location puts San Francisco Equinox Sport...       4   \n",
       "9323  This location puts San Francisco Equinox Sport...       4   \n",
       "9324  My father's old business partner's daughter in...       3   \n",
       "9325  My father's old business partner's daughter in...       3   \n",
       "9326  My father's old business partner's daughter in...       3   \n",
       "\n",
       "             time_created                reviewID  \n",
       "0     2019-12-29 14:26:23  QJS08cT1I7c0Ev9u6femLw  \n",
       "1     2019-12-29 14:26:23  QJS08cT1I7c0Ev9u6femLw  \n",
       "2     2019-12-29 14:26:23  QJS08cT1I7c0Ev9u6femLw  \n",
       "3     2020-02-28 06:21:41  1lBvdI7kfUrWN59njKQsZw  \n",
       "4     2020-02-28 06:21:41  1lBvdI7kfUrWN59njKQsZw  \n",
       "...                   ...                     ...  \n",
       "9322  2016-08-01 12:34:31  1s1M_DJNdqHvEg2xLHChYQ  \n",
       "9323  2016-08-01 12:34:31  1s1M_DJNdqHvEg2xLHChYQ  \n",
       "9324  2018-08-08 08:30:27  sJdmd9ZYZf-BJ4SNKI-iVw  \n",
       "9325  2018-08-08 08:30:27  sJdmd9ZYZf-BJ4SNKI-iVw  \n",
       "9326  2018-08-08 08:30:27  sJdmd9ZYZf-BJ4SNKI-iVw  \n",
       "\n",
       "[9327 rows x 5 columns]"
      ]
     },
     "execution_count": 37,
     "metadata": {},
     "output_type": "execute_result"
    }
   ],
   "source": [
    "#Checks to see if all the values where populated into the reviews database\n",
    "cur.execute(\"\"\"\n",
    "SELECT * FROM reviews\n",
    "\"\"\")\n",
    "df = pd.DataFrame(cur.fetchall())\n",
    "df.columns = [x[0] for x in cur.description]\n",
    "df"
   ]
  },
  {
   "cell_type": "markdown",
   "metadata": {},
   "source": [
    "# SQL Queries\n",
    "\n",
    "We need to do some basic analysis about our business based on their location. \n",
    "As we see that we want to pull out the top businesses based on their review counts, \n",
    "ratings, locations, and what users had to say about each business. "
   ]
  },
  {
   "cell_type": "code",
   "execution_count": 26,
   "metadata": {},
   "outputs": [
    {
     "data": {
      "text/plain": [
       "[('Vanderbilt Branch YMCA',),\n",
       " ('Vanderbilt Branch YMCA',),\n",
       " ('Work it Out',),\n",
       " ('Foxy Fitness & Pole Training Studios',),\n",
       " ('Church Street Boxing Gym',)]"
      ]
     },
     "execution_count": 26,
     "metadata": {},
     "output_type": "execute_result"
    }
   ],
   "source": [
    "#SQL queries \n",
    "# Which are the 5 most reviewed businesses?\n",
    "cur.execute(\"\"\"\n",
    "SELECT name \n",
    "FROM businesses\n",
    "ORDER By review_count DESC\n",
    "LIMIT 5\n",
    "\"\"\").fetchall()"
   ]
  },
  {
   "cell_type": "code",
   "execution_count": 27,
   "metadata": {},
   "outputs": [
    {
     "data": {
      "text/plain": [
       "[(5, 1008)]"
      ]
     },
     "execution_count": 27,
     "metadata": {},
     "output_type": "execute_result"
    }
   ],
   "source": [
    "#What is the highest rating recieved in your data set and how many businesses have that rating?\n",
    "cur.execute(\"\"\"\n",
    "SELECT rating, COUNT(rating)\n",
    "FROM businesses\n",
    "WHERE rating = (SELECT MAX(rating) FROM businesses)\n",
    "\"\"\").fetchall()"
   ]
  },
  {
   "cell_type": "code",
   "execution_count": 28,
   "metadata": {},
   "outputs": [
    {
     "data": {
      "text/plain": [
       "[(30,)]"
      ]
     },
     "execution_count": 28,
     "metadata": {},
     "output_type": "execute_result"
    }
   ],
   "source": [
    "# What percentage of businesses have a rating greater than or 4.5?\n",
    "cur.execute(\"\"\"\n",
    "SELECT\n",
    "COUNT(*)*100/ (SELECT COUNT(*) FROM businesses)\n",
    "FROM businesses \n",
    "WHERE rating < 4.5\n",
    "\"\"\").fetchall()"
   ]
  },
  {
   "cell_type": "code",
   "execution_count": 29,
   "metadata": {},
   "outputs": [
    {
     "data": {
      "text/plain": [
       "[(3,)]"
      ]
     },
     "execution_count": 29,
     "metadata": {},
     "output_type": "execute_result"
    }
   ],
   "source": [
    "# What percentage of businesses have a rating less than 3?\n",
    "cur.execute(\"\"\"\n",
    "SELECT\n",
    "COUNT(*)*100/ (SELECT COUNT(*) FROM businesses)\n",
    "FROM businesses \n",
    "WHERE rating < 3\n",
    "\"\"\").fetchall()"
   ]
  },
  {
   "cell_type": "code",
   "execution_count": 30,
   "metadata": {},
   "outputs": [
    {
     "data": {
      "text/plain": [
       "[(4.25, '$'), (4.1923076923076925, '$$'), (3.4516129032258065, '$$$')]"
      ]
     },
     "execution_count": 30,
     "metadata": {},
     "output_type": "execute_result"
    }
   ],
   "source": [
    "# What is the average rating of businesses that have a price label of one dollar sign? \n",
    "# Two dollar signs? Three dollar signs?\n",
    "cur.execute(\"\"\"\n",
    "SELECT AVG(rating) AS AvgRating, price\n",
    "FROM businesses\n",
    "GROUP BY price\n",
    "HAVING price = '$' OR price = '$$' OR price = '$$$'\n",
    "\"\"\").fetchall()"
   ]
  },
  {
   "cell_type": "code",
   "execution_count": 31,
   "metadata": {
    "scrolled": true
   },
   "outputs": [
    {
     "data": {
      "text/plain": [
       "[('I came away very impressed after some session stress management and yoga sessions with Eiji. His calm demeanor and clear instructions made it a very easy to...',),\n",
       " ('I came away very impressed after some session stress management and yoga sessions with Eiji. His calm demeanor and clear instructions made it a very easy to...',),\n",
       " ('I came away very impressed after some session stress management and yoga sessions with Eiji. His calm demeanor and clear instructions made it a very easy to...',)]"
      ]
     },
     "execution_count": 31,
     "metadata": {},
     "output_type": "execute_result"
    }
   ],
   "source": [
    "#Return the text of the reviews for the most reviewed business.\n",
    "cur.execute(\"\"\"\n",
    "SELECT text\n",
    "FROM reviews\n",
    "WHERE businessID in (SELECT businessID\n",
    "                     FROM businesses\n",
    "                     ORDER BY review_count\n",
    "                     LIMIT 1\n",
    "                     );\n",
    "\"\"\").fetchall()"
   ]
  },
  {
   "cell_type": "code",
   "execution_count": 32,
   "metadata": {
    "scrolled": true
   },
   "outputs": [
    {
     "data": {
      "text/plain": [
       "[('Five Pillars Yoga',), ('Five Pillars Yoga',)]"
      ]
     },
     "execution_count": 32,
     "metadata": {},
     "output_type": "execute_result"
    }
   ],
   "source": [
    "# Return the name of the business with the most recent review.\n",
    "cur.execute(\"\"\"\n",
    "SELECT name\n",
    "FROM businesses\n",
    "WHERE businessID in (SELECT businessID\n",
    "                     FROM reviews\n",
    "                     ORDER BY time_created DESC\n",
    "                     LIMIT 1);\n",
    "\n",
    "\"\"\").fetchall()"
   ]
  },
  {
   "cell_type": "code",
   "execution_count": 33,
   "metadata": {},
   "outputs": [
    {
     "data": {
      "text/plain": [
       "[('I was member here for 15+ years. The karate program was pretty good, most of the staff is great (with the exception to a few people), the gym is nice and...',)]"
      ]
     },
     "execution_count": 33,
     "metadata": {},
     "output_type": "execute_result"
    }
   ],
   "source": [
    "# Find the highest rated business and return text of the most recent review. \n",
    "# If multiple business have the same rating, select the business with the most reviews.\n",
    "cur.execute(\"\"\"\n",
    "SELECT text\n",
    "FROM reviews AS r\n",
    "JOIN businesses AS b\n",
    "ON r.businessID = b.businessID\n",
    "ORDER BY review_count DESC, b.rating DESC\n",
    "LIMIT 1\n",
    "\"\"\").fetchall()"
   ]
  },
  {
   "cell_type": "code",
   "execution_count": 34,
   "metadata": {},
   "outputs": [
    {
     "data": {
      "text/plain": [
       "[('Participated in a photo shoot for this studio way back in 2018, and was promised TFP not long after. 2 years and multiple failed contact attempts later,...',)]"
      ]
     },
     "execution_count": 34,
     "metadata": {},
     "output_type": "execute_result"
    }
   ],
   "source": [
    "# Find the lowest rated business and return text of the most recent review. \n",
    "# If multiple business have the same rating, select the business with the least reviews.\n",
    "cur.execute(\"\"\"\n",
    "SELECT text\n",
    "FROM reviews AS r\n",
    "JOIN businesses AS b\n",
    "ON r.businessID = b.businessID\n",
    "ORDER BY  b.rating ASC, review_count ASC\n",
    "LIMIT 1\n",
    "\"\"\").fetchall()"
   ]
  },
  {
   "cell_type": "markdown",
   "metadata": {},
   "source": [
    "# Creating Visualizations to clear represent what location is better fit for a yoga studio.\n",
    "\n",
    "1. The first visual is comparing average rating in comparison to NYC and London.\n",
    "2. Second visual is the average rating based on review counts for each location. \n",
    "    - We see that our amount of data varies greatly due to which location used Yelp to store business information\n",
    "3. Third visual shows the difference of cost to attend a yoga studio based on which location you are going. \n",
    "    - London yoga studios are more expensive, potentially due to cost of living in London.\n",
    "4. Our final visual shows the ratings given based on the zip code of our two locations. \n",
    "    - We specifically went into Brooklyn and Central London zip codes beacuse more people are moving to these locations in each city."
   ]
  },
  {
   "cell_type": "code",
   "execution_count": 55,
   "metadata": {},
   "outputs": [],
   "source": [
    "#Creating a datframe based on the businesses where we get the rating and city where we \n",
    "#group by the country\n",
    "\n",
    "Avg_Country = cur.execute(\"\"\"\n",
    "SELECT rating, city\n",
    "FROM businesses\n",
    "GROUP BY country \n",
    "\"\"\").fetchall()"
   ]
  },
  {
   "cell_type": "code",
   "execution_count": 56,
   "metadata": {},
   "outputs": [],
   "source": [
    "#Creates dataframe for the country and the average rating by country\n",
    "Avg_Country = df.groupby('country')['rating'].mean()"
   ]
  },
  {
   "cell_type": "code",
   "execution_count": 57,
   "metadata": {},
   "outputs": [
    {
     "data": {
      "image/png": "[encoded data removed]",
      "text/plain": [
       "<Figure size 360x360 with 1 Axes>"
      ]
     },
     "metadata": {
      "needs_background": "light"
     },
     "output_type": "display_data"
    }
   ],
   "source": [
    "#Creates a visualization based on the average rating for eacb location \n",
    "\n",
    "fig, ax = plt.subplots(figsize=(5, 5))\n",
    "\n",
    "ax.bar(Avg_Country.index, Avg_Country.values, color = ('Red', 'blue'), width = 0.4)\n",
    "\n",
    "ax.set_xlabel(\"City\")\n",
    "ax.set_ylabel(\"Average rating\")\n",
    "ax.set_title(\"Average Rating for Yoga Studios for each Location \")\n",
    "plt.show()"
   ]
  },
  {
   "cell_type": "code",
   "execution_count": 81,
   "metadata": {},
   "outputs": [
    {
     "data": {
      "text/html": [
       "<div>\n",
       "<style scoped>\n",
       "    .dataframe tbody tr th:only-of-type {\n",
       "        vertical-align: middle;\n",
       "    }\n",
       "\n",
       "    .dataframe tbody tr th {\n",
       "        vertical-align: top;\n",
       "    }\n",
       "\n",
       "    .dataframe thead th {\n",
       "        text-align: right;\n",
       "    }\n",
       "</style>\n",
       "<table border=\"1\" class=\"dataframe\">\n",
       "  <thead>\n",
       "    <tr style=\"text-align: right;\">\n",
       "      <th></th>\n",
       "      <th>city</th>\n",
       "      <th>rating</th>\n",
       "      <th>review_count</th>\n",
       "    </tr>\n",
       "  </thead>\n",
       "  <tbody>\n",
       "    <tr>\n",
       "      <th>0</th>\n",
       "      <td>London</td>\n",
       "      <td>5.0</td>\n",
       "      <td>1</td>\n",
       "    </tr>\n",
       "    <tr>\n",
       "      <th>1</th>\n",
       "      <td>New York</td>\n",
       "      <td>4.5</td>\n",
       "      <td>146</td>\n",
       "    </tr>\n",
       "  </tbody>\n",
       "</table>\n",
       "</div>"
      ],
      "text/plain": [
       "       city  rating review_count\n",
       "0    London     5.0            1\n",
       "1  New York     4.5          146"
      ]
     },
     "execution_count": 81,
     "metadata": {},
     "output_type": "execute_result"
    }
   ],
   "source": [
    "#SQL query grabbing the rating and review_count for each city \n",
    "cur.execute(\"\"\"\n",
    "SELECT city, rating, review_count\n",
    "FROM businesses\n",
    "GROUP BY country\n",
    "\"\"\")\n",
    "avgR = pd.DataFrame(cur.fetchall())\n",
    "avgR.columns = [x[0] for x in cur.description]\n",
    "avgR\n"
   ]
  },
  {
   "cell_type": "code",
   "execution_count": 83,
   "metadata": {},
   "outputs": [
    {
     "data": {
      "text/plain": [
       "0      1\n",
       "1    146\n",
       "Name: review_count, dtype: int64"
      ]
     },
     "execution_count": 83,
     "metadata": {},
     "output_type": "execute_result"
    }
   ],
   "source": [
    "avgR['review_count'] = avgR['review_count'].map(lambda x : int(x))\n",
    "avgR['review_count']"
   ]
  },
  {
   "cell_type": "code",
   "execution_count": 84,
   "metadata": {
    "scrolled": true
   },
   "outputs": [
    {
     "data": {
      "image/png": "[encoded data removed]",
      "text/plain": [
       "<Figure size 720x576 with 1 Axes>"
      ]
     },
     "metadata": {
      "needs_background": "light"
     },
     "output_type": "display_data"
    }
   ],
   "source": [
    "#Box plot showing the mean review counts by the number of ratings for each area \n",
    "fig, ax = plt.subplots(figsize = (10,8))\n",
    "\n",
    "# Add data: \"raitng\", \"review count\" from the dataframe\n",
    "ax.boxplot([avgR['rating'], avgR['review_count']])\n",
    "\n",
    "\n",
    "# Set the x-axis label to \"London and New York\"\n",
    "ax.set_xticklabels(['London', \"New York\"])\n",
    "\n",
    "# Set the y-axis label to \"Review Counts\"\n",
    "ax.set_ylabel(\"Review Counts\")\n",
    "\n",
    "#set the title for the boxplot\n",
    "ax.set_title('Average number of reviews For Lond and New York')\n",
    "\n",
    "\n",
    "plt.show()"
   ]
  },
  {
   "cell_type": "code",
   "execution_count": 85,
   "metadata": {
    "scrolled": true
   },
   "outputs": [
    {
     "data": {
      "text/html": [
       "<div>\n",
       "<style scoped>\n",
       "    .dataframe tbody tr th:only-of-type {\n",
       "        vertical-align: middle;\n",
       "    }\n",
       "\n",
       "    .dataframe tbody tr th {\n",
       "        vertical-align: top;\n",
       "    }\n",
       "\n",
       "    .dataframe thead th {\n",
       "        text-align: right;\n",
       "    }\n",
       "</style>\n",
       "<table border=\"1\" class=\"dataframe\">\n",
       "  <thead>\n",
       "    <tr style=\"text-align: right;\">\n",
       "      <th></th>\n",
       "      <th>price</th>\n",
       "      <th>city</th>\n",
       "      <th>review_count</th>\n",
       "    </tr>\n",
       "  </thead>\n",
       "  <tbody>\n",
       "    <tr>\n",
       "      <th>0</th>\n",
       "      <td>$$</td>\n",
       "      <td>New York</td>\n",
       "      <td>10</td>\n",
       "    </tr>\n",
       "    <tr>\n",
       "      <th>1</th>\n",
       "      <td>$$</td>\n",
       "      <td>New York</td>\n",
       "      <td>1</td>\n",
       "    </tr>\n",
       "    <tr>\n",
       "      <th>2</th>\n",
       "      <td>$$</td>\n",
       "      <td>Jersey City</td>\n",
       "      <td>40</td>\n",
       "    </tr>\n",
       "    <tr>\n",
       "      <th>3</th>\n",
       "      <td>$$$</td>\n",
       "      <td>New York</td>\n",
       "      <td>269</td>\n",
       "    </tr>\n",
       "    <tr>\n",
       "      <th>4</th>\n",
       "      <td>$$$</td>\n",
       "      <td>Guttenberg</td>\n",
       "      <td>38</td>\n",
       "    </tr>\n",
       "    <tr>\n",
       "      <th>...</th>\n",
       "      <td>...</td>\n",
       "      <td>...</td>\n",
       "      <td>...</td>\n",
       "    </tr>\n",
       "    <tr>\n",
       "      <th>93</th>\n",
       "      <td>$$</td>\n",
       "      <td>Jersey City</td>\n",
       "      <td>14</td>\n",
       "    </tr>\n",
       "    <tr>\n",
       "      <th>94</th>\n",
       "      <td>$$$</td>\n",
       "      <td>New York</td>\n",
       "      <td>148</td>\n",
       "    </tr>\n",
       "    <tr>\n",
       "      <th>95</th>\n",
       "      <td>$$$</td>\n",
       "      <td>New York</td>\n",
       "      <td>105</td>\n",
       "    </tr>\n",
       "    <tr>\n",
       "      <th>96</th>\n",
       "      <td>$$$</td>\n",
       "      <td>New York</td>\n",
       "      <td>76</td>\n",
       "    </tr>\n",
       "    <tr>\n",
       "      <th>97</th>\n",
       "      <td>$$$$</td>\n",
       "      <td>New York</td>\n",
       "      <td>128</td>\n",
       "    </tr>\n",
       "  </tbody>\n",
       "</table>\n",
       "<p>98 rows × 3 columns</p>\n",
       "</div>"
      ],
      "text/plain": [
       "   price         city review_count\n",
       "0     $$     New York           10\n",
       "1     $$     New York            1\n",
       "2     $$  Jersey City           40\n",
       "3    $$$     New York          269\n",
       "4    $$$   Guttenberg           38\n",
       "..   ...          ...          ...\n",
       "93    $$  Jersey City           14\n",
       "94   $$$     New York          148\n",
       "95   $$$     New York          105\n",
       "96   $$$     New York           76\n",
       "97  $$$$     New York          128\n",
       "\n",
       "[98 rows x 3 columns]"
      ]
     },
     "execution_count": 85,
     "metadata": {},
     "output_type": "execute_result"
    }
   ],
   "source": [
    "#Creates a query the prices for each areas in NYC\n",
    "\n",
    "cur.execute(\"\"\"\n",
    "SELECT price, city, review_count\n",
    "FROM businesses \n",
    "WHERE price = '$$$$' OR price = '$$$' OR price = '$$' OR price = '$'\n",
    "\"\"\")\n",
    "priceNYCdb = pd.DataFrame(cur.fetchall())\n",
    "priceNYCdb.columns = [x[0] for x in cur.description]\n",
    "priceNYCdb"
   ]
  },
  {
   "cell_type": "code",
   "execution_count": 47,
   "metadata": {},
   "outputs": [],
   "source": [
    "# Replaces all the $ with 1 through 4 value for leas tto most epxensive \n",
    "newcolumn = []\n",
    "\n",
    "for x in priceNYCdb['price']:\n",
    "    if x == '$':\n",
    "        newcolumn.append(int(x.replace('$', str(1))))\n",
    "    if x == '$$':\n",
    "        newcolumn.append(int(x.replace('$$', str(2))))\n",
    "    if x == '$$$':\n",
    "        newcolumn.append(int(x.replace('$$$', str(3))))\n",
    "    if x == '$$$$':\n",
    "        newcolumn.append(int(x.replace('$$$$', str(4))))"
   ]
  },
  {
   "cell_type": "code",
   "execution_count": 48,
   "metadata": {},
   "outputs": [],
   "source": [
    "#Adds the new column for the conversion of the symbol to the numeric value \n",
    "priceNYCdb['newPrice'] = newcolumn"
   ]
  },
  {
   "cell_type": "code",
   "execution_count": 49,
   "metadata": {
    "scrolled": true
   },
   "outputs": [
    {
     "data": {
      "text/html": [
       "<div>\n",
       "<style scoped>\n",
       "    .dataframe tbody tr th:only-of-type {\n",
       "        vertical-align: middle;\n",
       "    }\n",
       "\n",
       "    .dataframe tbody tr th {\n",
       "        vertical-align: top;\n",
       "    }\n",
       "\n",
       "    .dataframe thead th {\n",
       "        text-align: right;\n",
       "    }\n",
       "</style>\n",
       "<table border=\"1\" class=\"dataframe\">\n",
       "  <thead>\n",
       "    <tr style=\"text-align: right;\">\n",
       "      <th></th>\n",
       "      <th>price</th>\n",
       "      <th>city</th>\n",
       "      <th>review_count</th>\n",
       "    </tr>\n",
       "  </thead>\n",
       "  <tbody>\n",
       "    <tr>\n",
       "      <th>0</th>\n",
       "      <td>££</td>\n",
       "      <td>London</td>\n",
       "      <td>8</td>\n",
       "    </tr>\n",
       "    <tr>\n",
       "      <th>1</th>\n",
       "      <td>£££</td>\n",
       "      <td>London</td>\n",
       "      <td>7</td>\n",
       "    </tr>\n",
       "    <tr>\n",
       "      <th>2</th>\n",
       "      <td>£££</td>\n",
       "      <td>Soho</td>\n",
       "      <td>15</td>\n",
       "    </tr>\n",
       "    <tr>\n",
       "      <th>3</th>\n",
       "      <td>££</td>\n",
       "      <td>London</td>\n",
       "      <td>5</td>\n",
       "    </tr>\n",
       "    <tr>\n",
       "      <th>4</th>\n",
       "      <td>£££</td>\n",
       "      <td>London</td>\n",
       "      <td>2</td>\n",
       "    </tr>\n",
       "    <tr>\n",
       "      <th>5</th>\n",
       "      <td>££</td>\n",
       "      <td>London</td>\n",
       "      <td>6</td>\n",
       "    </tr>\n",
       "    <tr>\n",
       "      <th>6</th>\n",
       "      <td>££££</td>\n",
       "      <td>London</td>\n",
       "      <td>7</td>\n",
       "    </tr>\n",
       "    <tr>\n",
       "      <th>7</th>\n",
       "      <td>£££</td>\n",
       "      <td>London</td>\n",
       "      <td>4</td>\n",
       "    </tr>\n",
       "    <tr>\n",
       "      <th>8</th>\n",
       "      <td>££</td>\n",
       "      <td>London</td>\n",
       "      <td>2</td>\n",
       "    </tr>\n",
       "    <tr>\n",
       "      <th>9</th>\n",
       "      <td>££££</td>\n",
       "      <td>London</td>\n",
       "      <td>2</td>\n",
       "    </tr>\n",
       "    <tr>\n",
       "      <th>10</th>\n",
       "      <td>£££</td>\n",
       "      <td>Kensington</td>\n",
       "      <td>27</td>\n",
       "    </tr>\n",
       "  </tbody>\n",
       "</table>\n",
       "</div>"
      ],
      "text/plain": [
       "   price        city review_count\n",
       "0     ££      London            8\n",
       "1    £££      London            7\n",
       "2    £££        Soho           15\n",
       "3     ££      London            5\n",
       "4    £££      London            2\n",
       "5     ££      London            6\n",
       "6   ££££      London            7\n",
       "7    £££      London            4\n",
       "8     ££      London            2\n",
       "9   ££££      London            2\n",
       "10   £££  Kensington           27"
      ]
     },
     "execution_count": 49,
     "metadata": {},
     "output_type": "execute_result"
    }
   ],
   "source": [
    "#Creates a query the prices for each areas in Lodnon\n",
    "cur.execute(\"\"\"\n",
    "SELECT price, city, review_count\n",
    "FROM businesses \n",
    "WHERE price = '££££' OR price = '£££' OR price = '££' OR price = '£'\n",
    "\n",
    "\"\"\")\n",
    "priceUKdb = pd.DataFrame(cur.fetchall())\n",
    "priceUKdb.columns = [x[0] for x in cur.description]\n",
    "priceUKdb"
   ]
  },
  {
   "cell_type": "code",
   "execution_count": 50,
   "metadata": {},
   "outputs": [],
   "source": [
    "# Replaces all the £ with 1 through 4 value for leas tto most epxensive \n",
    "\n",
    "\n",
    "newcolumnUK = []\n",
    "\n",
    "for x in priceUKdb['price']:\n",
    "    if x == '£':\n",
    "        newcolumnUK.append(int(x.replace('£', str(1))))\n",
    "    if x == '££':\n",
    "        newcolumnUK.append(int(x.replace('££', str(2))))\n",
    "    if x == '£££':\n",
    "        newcolumnUK.append(int(x.replace('£££', str(3))))\n",
    "    if x == '££££':\n",
    "        newcolumnUK.append(int(x.replace('££££', str(4))))"
   ]
  },
  {
   "cell_type": "code",
   "execution_count": 77,
   "metadata": {},
   "outputs": [],
   "source": [
    "#Adds the new column to the london database\n",
    "priceUKdb['newPrice'] = newcolumnUK "
   ]
  },
  {
   "cell_type": "code",
   "execution_count": 52,
   "metadata": {},
   "outputs": [
    {
     "data": {
      "image/png": "[encoded data removed]",
      "text/plain": [
       "<Figure size 432x288 with 1 Axes>"
      ]
     },
     "metadata": {
      "needs_background": "light"
     },
     "output_type": "display_data"
    }
   ],
   "source": [
    "#Hsitogram of the fo\n",
    "\n",
    "fig, ax = plt.subplots()\n",
    "# Plot a histogram of \"Price\" for each NYC \n",
    "ax.hist(priceNYCdb['newPrice'], label = 'NYC',  color = 'blue')\n",
    "\n",
    "# Compare to histogram of \"Price\" for London\n",
    "ax.hist(priceUKdb['newPrice'], label= 'London', color = 'red')\n",
    "\n",
    "# Set the x-axis label to \"Price Range for Yoga studios\"\n",
    "ax.set_xlabel('Price range from least to most expensive')\n",
    "\n",
    "# Set the y-axis label to \"# of observations\"\n",
    "ax.set_ylabel('Number of Observations')\n",
    "#Title for the our histogram \n",
    "ax.set_title('Pricing of Yoga studios in the UK and NYC')\n",
    "\n",
    "#Creates the legend to identify what color is for what location \n",
    "ax.legend()\n",
    "plt.show()"
   ]
  },
  {
   "cell_type": "code",
   "execution_count": 44,
   "metadata": {},
   "outputs": [],
   "source": [
    "business_df = business\n",
    "\n",
    "\n",
    "Brooklyn_zip_codes = [11212, 11213, 11216, 11233, 11238,\n",
    "11209, 11214, 11228,\n",
    "11204, 11218, 11219, 11230,\n",
    "11234, 11236, 11239,\n",
    "11223, 11224, 11229, 11235,\n",
    "11201, 11205, 11215, 11217, 11231,\n",
    "11203, 11210, 11225, 11226,\n",
    "11207, 11208,\n",
    "11211, 11222,\n",
    "11220, 11232,\n",
    "11206, 11221, 11237]\n",
    "\n",
    "Brooklyn_zip_codes = list(map(str,Brooklyn_zip_codes))\n",
    "Brooklyn_filter = business_df['zip_code'].isin(Brooklyn_zip_codes)\n",
    "\n",
    "# creating the dataset\n",
    "reviews_made = list(business_df[Brooklyn_filter].groupby('zip_code')['review_count'].count())\n",
    "bk_zip_codes = list(business_df[Brooklyn_filter].groupby('zip_code')['review_count'].count().index)"
   ]
  },
  {
   "cell_type": "code",
   "execution_count": 48,
   "metadata": {},
   "outputs": [
    {
     "data": {
      "image/png": "[encoded data removed]",
      "text/plain": [
       "<Figure size 720x360 with 1 Axes>"
      ]
     },
     "metadata": {
      "needs_background": "light"
     },
     "output_type": "display_data"
    },
    {
     "data": {
      "image/png": "[encoded data removed]",
      "text/plain": [
       "<Figure size 720x360 with 1 Axes>"
      ]
     },
     "metadata": {
      "needs_background": "light"
     },
     "output_type": "display_data"
    }
   ],
   "source": [
    "fig = plt.figure(figsize = (10, 5))\n",
    "# creating the bar plot\n",
    "plt.bar(bk_zip_codes, reviews_made, color ='maroon', width = 0.4)\n",
    "plt.xticks(rotation=45)\n",
    "plt.xlabel(\"Brooklyn Zip Codes\")\n",
    "plt.ylabel(\"Number of Reviews Made\")\n",
    "plt.title(\"Reviews in Brooklyn of Yoga Studios\")\n",
    "plt.show()\n",
    "fig.savefig('Reviews_in_Brooklyn_of_Yoga_Studios.png')\n",
    "\n",
    "\n",
    "\n",
    "\n",
    "\n",
    "\n",
    "London_filter = business_df['country'] == 'GB'\n",
    "business_df[London_filter]\n",
    "business_df[London_filter].groupby('zip_code')['review_count'].count()[:20]\n",
    "\n",
    "# creating the dataset\n",
    "reviews_made = list(business_df[London_filter].groupby('zip_code')['review_count'].count()[:20]\n",
    ")\n",
    "London_zip_codes = list(business_df[London_filter].groupby('zip_code')['review_count'].count()[:20].index)\n",
    "fig = plt.figure(figsize = (10, 5))\n",
    "# creating the bar plot\n",
    "plt.bar(London_zip_codes, reviews_made, color ='purple', width = 0.4)\n",
    "plt.xticks(rotation=45)\n",
    "plt.xlabel(\"London Zip Codes\")\n",
    "plt.ylabel(\"Number of Reviews Made\")\n",
    "plt.title(\"Reviews in London of Yoga Studios\")\n",
    "fig.savefig('Reviews_in_London_of_Yoga_Studios.png')\n",
    "plt.show()"
   ]
  },
  {
   "cell_type": "code",
   "execution_count": null,
   "metadata": {},
   "outputs": [],
   "source": []
  },
  {
   "cell_type": "code",
   "execution_count": null,
   "metadata": {},
   "outputs": [],
   "source": []
  }
 ],
 "metadata": {
  "kernelspec": {
   "display_name": "learn-env",
   "language": "python",
   "name": "learn-env"
  },
  "language_info": {
   "codemirror_mode": {
    "name": "ipython",
    "version": 3
   },
   "file_extension": ".py",
   "mimetype": "text/x-python",
   "name": "python",
   "nbconvert_exporter": "python",
   "pygments_lexer": "ipython3",
   "version": "3.8.5"
  }
 },
 "nbformat": 4,
 "nbformat_minor": 4
}
